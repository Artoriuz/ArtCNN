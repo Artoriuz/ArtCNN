{
  "cells": [
    {
      "cell_type": "code",
      "execution_count": 1,
      "metadata": {
        "id": "i5pa960pwesE"
      },
      "outputs": [],
      "source": [
        "import os\n",
        "os.environ[\"KERAS_BACKEND\"] = \"tensorflow\"\n",
        "import keras\n",
        "import tensorflow as tf\n",
        "import numpy as np\n",
        "import cv2\n",
        "import glob\n",
        "\n",
        "def psnr_metric(y_true, y_pred):\n",
        "    psnr = tf.image.psnr(y_true, y_pred, max_val=1)\n",
        "    return tf.reduce_mean(psnr)\n",
        "\n",
        "def ssim_metric(y_true, y_pred):\n",
        "    ssim = tf.image.ssim(y_true, y_pred, max_val=1)\n",
        "    return tf.reduce_mean(ssim)\n",
        "\n",
        "def msssim_metric(y_true, y_pred):\n",
        "    msssim = tf.image.ssim_multiscale(y_true, y_pred, max_val=1)\n",
        "    return tf.reduce_mean(msssim)"
      ]
    },
    {
      "cell_type": "code",
      "execution_count": null,
      "metadata": {
        "id": "v53IXzsePZa5"
      },
      "outputs": [],
      "source": [
        "# Settings\n",
        "filters = 96\n",
        "blocks = 16\n",
        "act = \"silu\"\n",
        "kernel_size = 3\n",
        "\n",
        "class DepthToSpace(keras.layers.Layer):\n",
        "    def __init__(self):\n",
        "        super().__init__()\n",
        "\n",
        "    def call(self, x):\n",
        "        x = tf.nn.depth_to_space(x, 2)\n",
        "        x = keras.ops.clip(x, 0.0, 1.0)\n",
        "        return x\n",
        "\n",
        "def res_block(input, filters=filters, kernel_size=kernel_size):\n",
        "    x = keras.layers.Conv2D(filters=filters, kernel_size=kernel_size, padding='same', activation=act)(input)\n",
        "    x = keras.layers.Conv2D(filters=filters, kernel_size=kernel_size, padding='same', activation=act)(x)\n",
        "    x = keras.layers.Conv2D(filters=filters, kernel_size=kernel_size, padding='same')(x)\n",
        "    x = keras.layers.Add()([x, input])\n",
        "    return x\n",
        "\n",
        "# Build the model:\n",
        "inputs = keras.layers.Input(shape=(None,None,1))\n",
        "conv0 = keras.layers.Conv2D(filters=filters, kernel_size=kernel_size, padding='same')(inputs)\n",
        "\n",
        "x = res_block(conv0)\n",
        "for _ in range(blocks - 1):\n",
        "    x = res_block(x)\n",
        "\n",
        "# Feature Fusion\n",
        "conv1 = keras.layers.Conv2D(filters=filters, kernel_size=kernel_size, padding='same')(x)\n",
        "mix = keras.layers.Add()([conv1, conv0])\n",
        "\n",
        "# Upsampler\n",
        "features = keras.layers.Conv2D(filters=4, kernel_size=kernel_size, padding='same')(mix)\n",
        "outputs = DepthToSpace()(features)\n",
        "\n",
        "# Defining the model\n",
        "model = keras.Model(inputs=inputs, outputs=outputs)\n",
        "model.summary()\n",
        "# Compile the model.\n",
        "model.compile(optimizer='AdamW', loss='mae', metrics=[psnr_metric, ssim_metric, msssim_metric])"
      ]
    },
    {
      "cell_type": "code",
      "execution_count": null,
      "metadata": {
        "id": "2r8WU2Ftzhja"
      },
      "outputs": [],
      "source": [
        "# Download data from gdrive\n",
        "from google.colab import drive\n",
        "drive.mount('/content/drive')\n",
        "\n",
        "!cp /content/drive/MyDrive/tmp/r16f96.keras /content/r16f96.keras\n",
        "\n",
        "!cp /content/drive/MyDrive/Datasets/FHD_Anime.zip /content/FHD_Anime.zip\n",
        "!unzip /content/FHD_Anime.zip"
      ]
    },
    {
      "cell_type": "code",
      "execution_count": null,
      "metadata": {
        "id": "EazHYf0Spzfq"
      },
      "outputs": [],
      "source": [
        "model.load_weights(\"/content/r16f96.keras\", skip_mismatch=True)"
      ]
    },
    {
      "cell_type": "code",
      "execution_count": null,
      "metadata": {
        "id": "OuOWITeMT0pN"
      },
      "outputs": [],
      "source": [
        "# FHD Anime\n",
        "number_files = len(os.listdir('/content/FHD_Anime/'))\n",
        "metrics_array = np.empty([number_files, 4])\n",
        "idx = 0\n",
        "\n",
        "filelist = sorted(glob.glob('/content/FHD_Anime/*.png'))\n",
        "\n",
        "for myFile in filelist:\n",
        "    test_ref = cv2.imread(myFile, cv2.IMREAD_COLOR)\n",
        "    test_ref = cv2.cvtColor(test_ref, cv2.COLOR_BGR2GRAY, 0)\n",
        "    test_ref = np.array(test_ref).astype(np.float32) / 255.0\n",
        "    test_ref = np.clip(test_ref, 0.0, 1.0)\n",
        "    test_in = cv2.resize(test_ref.copy(), None, fx=0.5, fy=0.5, interpolation=cv2.INTER_LINEAR_EXACT)\n",
        "\n",
        "    test_ref = np.expand_dims(test_ref, axis=-1)\n",
        "    test_ref = np.expand_dims(test_ref, axis=0)\n",
        "\n",
        "    test_in = np.expand_dims(test_in, axis=-1)\n",
        "    test_in = np.expand_dims(test_in, axis=0)\n",
        "\n",
        "    metrics_array[idx, :] = np.array(model.evaluate(test_in, test_ref, verbose=1))\n",
        "    idx = idx + 1\n",
        "\n",
        "print(filelist)\n",
        "print(metrics_array)\n",
        "np.set_printoptions(suppress=True)\n",
        "print(np.average(metrics_array, axis=0))"
      ]
    }
  ],
  "metadata": {
    "accelerator": "GPU",
    "colab": {
      "provenance": []
    },
    "kernelspec": {
      "display_name": "Python 3",
      "name": "python3"
    },
    "language_info": {
      "name": "python"
    }
  },
  "nbformat": 4,
  "nbformat_minor": 0
}
